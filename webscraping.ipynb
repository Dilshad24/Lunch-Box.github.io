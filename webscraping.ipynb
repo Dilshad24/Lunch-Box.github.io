{
  "nbformat": 4,
  "nbformat_minor": 0,
  "metadata": {
    "colab": {
      "name": "webscraping.ipynb",
      "provenance": [],
      "collapsed_sections": []
    },
    "kernelspec": {
      "name": "python3",
      "display_name": "Python 3"
    },
    "language_info": {
      "name": "python"
    }
  },
  "cells": [
    {
      "cell_type": "code",
      "execution_count": null,
      "metadata": {
        "id": "Bu3GNcZ2V25R",
        "colab": {
          "base_uri": "https://localhost:8080/"
        },
        "outputId": "c0c1f7bf-8d92-4419-e3f2-28fd55e6e296"
      },
      "outputs": [
        {
          "output_type": "stream",
          "name": "stdout",
          "text": [
            "mkdir: cannot create directory ‘/content/drive/MyDrive/images’: File exists\n",
            "mkdir: cannot create directory ‘/content/drive/MyDrive/images/recipes’: File exists\n",
            "mkdir: cannot create directory ‘/content/drive/MyDrive/images/recipes/veg recipe’: File exists\n",
            "mkdir: cannot create directory ‘/content/drive/MyDrive/images/recipes/non veg recipe’: File exists\n"
          ]
        }
      ],
      "source": [
        "import os\n",
        "from bs4 import BeautifulSoup\n",
        "import requests\n",
        "!mkdir '/content/drive/MyDrive/images'\n",
        "!mkdir '/content/drive/MyDrive/images/recipes'\n",
        "!mkdir '/content/drive/MyDrive/images/recipes/veg recipe'\n",
        "!mkdir '/content/drive/MyDrive/images/recipes/non veg recipe'\n"
      ]
    },
    {
      "cell_type": "code",
      "source": [
        "def getData(url):\n",
        "  rl = ['veg recipe','non veg recipe']\n",
        "  req=requests.get(url)\n",
        "  soup = BeautifulSoup(req.content, 'html.parser')\n",
        "  rtype=soup.findAll('span',class_='rsvegnonveg')[0].get(\"class\")[1]\n",
        "  recipetype=''\n",
        "  returntype = 'nonveg'\n",
        "  if(rtype == 'veg'):\n",
        "    recipetype =rl[0]\n",
        "    returntype = 'veg'\n",
        "  else:\n",
        "    recipetype =rl[1]\n",
        "  image=soup.findAll('img',class_='postSlikeLoadImage')[0].get(\"src\")\n",
        "  r = requests.get(image).content\n",
        "  rname=soup.findAll('h1',class_='nheadingrs')[0].text\n",
        "  with open(f\"{'/content/drive/MyDrive/images/recipes/'+recipetype}/\"+rname.split('Recipe')[0][:-1]+\".jpg\", \"wb+\") as f:\n",
        "    f.write(r)\n",
        "  totaltime=soup.findAll('li',class_=\"totaltime\")[0].span.text\n",
        "  preptime=soup.findAll('li',class_=\"preptime\")[0].span.text\n",
        "  calories=soup.findAll('li',class_=\"calories\")[0].span.text\n",
        "  servings=soup.findAll('div',class_=\"servingselect\")[0].option.text\n",
        "  ingredients=soup.findAll('li',class_=\"clearfix\")\n",
        "  data=[]\n",
        "  ingeadentlist=[]\n",
        "  processList=[]\n",
        "  tipslist=[]\n",
        "  data.append(rname.split('Recipe')[0][:-1])\n",
        "  data.append('images/recipes/'+recipetype+'/'+rname.split('Recipe')[0][:-1]+'.jpg')\n",
        "  data.append(totaltime)\n",
        "  data.append(preptime)\n",
        "  data.append(calories)\n",
        "  data.append(servings)\n",
        "  for i in range(len(ingredients)):\n",
        "    ing=ingredients[i].text\n",
        "    ingeadentlist.append(ing)\n",
        "\n",
        "  processes=soup.findAll('span',class_='story_right')\n",
        "\n",
        "  for i in range(len(processes)):\n",
        "    try:\n",
        "        processh=processes[i].h4.text\n",
        "    except:\n",
        "      pass\n",
        "    try:\n",
        "        processh=processes[i].h5.text\n",
        "    except:\n",
        "      pass\n",
        "    try:\n",
        "        processh=processes[i].h6.text\n",
        "    except:\n",
        "      pass\n",
        "    processp=processes[i].p\n",
        "    if processp:\n",
        "      processList.append('<h1>'+processh+'</h1>')\n",
        "      processList.append(str(processp))\n",
        "  totaltime\n",
        "  try:\n",
        "    tipsl=soup.findAll('ol',class_='tipslist')[0]\n",
        "    tipslist=tipsl.findAll('li')\n",
        "    tipslist = [str(i) for i in tipslist]\n",
        "  except:\n",
        "    tipslist=['NA']\n",
        "  # return [data,ingeadentlist,processList,tipslist]\n",
        "  return [data,ingeadentlist,processList,tipslist]"
      ],
      "metadata": {
        "id": "TgTwioJpWEVH"
      },
      "execution_count": null,
      "outputs": []
    },
    {
      "cell_type": "code",
      "source": [
        "def fechdata(t,times):\n",
        "  allData=[]\n",
        "  allIng=[]\n",
        "  allProcess=[]\n",
        "  allTips =[]\n",
        "  if(t==1):\n",
        "      tt='non-veg'\n",
        "  else:\n",
        "    tt='veg'\n",
        "  w=0\n",
        "  for j in range(1,times):\n",
        "    urlr='https://recipes.timesofindia.com/advancedfilter.cms?query=*:*&fq_mdata=mData_CuisineType&datavalue=('+tt+')&curpg='+str(j)\n",
        "    reqr=requests.get(urlr)\n",
        "    soupr = BeautifulSoup(reqr.content, 'html.parser')\n",
        "\n",
        "    recipesurls=soupr.findAll('span',class_='posrel') #[2].a.get(\"href\")\n",
        "    for i in range(len(recipesurls)):\n",
        "      if(w==10):\n",
        "          break\n",
        "      try:\n",
        "        data = getData(recipesurls[i].a.get(\"href\"))\n",
        "        allData.append(data[0])\n",
        "        allIng.append(data[1])\n",
        "        allProcess.append(data[2])\n",
        "        allTips.append(data[3])\n",
        "        w+=1\n",
        "        \n",
        "      except:\n",
        "        pass\n",
        "\n",
        "  return [allData,allIng,allProcess,allTips,w]\n",
        "\n",
        "\n"
      ],
      "metadata": {
        "id": "YoEPSygNuqwm"
      },
      "execution_count": null,
      "outputs": []
    },
    {
      "cell_type": "code",
      "source": [
        "noofdata = 2\n",
        "veg = fechdata(0,noofdata)\n",
        "nonveg = fechdata(1,noofdata)\n"
      ],
      "metadata": {
        "id": "KuZZW_3tXBL-"
      },
      "execution_count": null,
      "outputs": []
    },
    {
      "cell_type": "code",
      "source": [
        "print(veg[4])\n",
        "print(nonveg[4])\n",
        "\n",
        "vegrecipes=veg[0]\n",
        "nonvegrecipes=nonveg[0]\n",
        "\n",
        "totalrecipedict ={}\n",
        "for i in range(len(vegrecipes)):\n",
        "  totalrecipedict[i]=vegrecipes[i]\n",
        "for i in range(len(nonvegrecipes)):\n",
        "  totalrecipedict[i+len(vegrecipes)]=nonvegrecipes[i]\n",
        "\n",
        "totalrecipe =[]\n",
        "for i in range(len(vegrecipes)):\n",
        "  totalrecipe.append(vegrecipes[i])\n",
        "for i in range(len(nonvegrecipes)):\n",
        "  totalrecipe.append(nonvegrecipes[i])\n",
        "\n",
        "totalIng =[]\n",
        "for i in range(len(veg[1])):\n",
        "  totalIng.append(veg[1][i])\n",
        "for i in range(len(nonveg[1])):\n",
        "  totalIng.append(nonveg[1][i])\n",
        "\n",
        "totalProcess =[]\n",
        "for i in range(len(veg[2])):\n",
        "  totalProcess.append(veg[2][i])\n",
        "for i in range(len(nonveg[2])):\n",
        "  totalProcess.append(nonveg[2][i])\n",
        "\n",
        "\n",
        "totalTips =[]\n",
        "for i in range(len(veg[3])):\n",
        "  totalTips.append(veg[3][i])\n",
        "for i in range(len(nonveg[3])):\n",
        "  totalTips.append(nonveg[3][i])\n",
        "\n",
        "\n"
      ],
      "metadata": {
        "colab": {
          "base_uri": "https://localhost:8080/"
        },
        "id": "K-9IsLFRXnc4",
        "outputId": "a6bd7c75-0141-43d7-c7c5-b4493f5d5270"
      },
      "execution_count": null,
      "outputs": [
        {
          "output_type": "stream",
          "name": "stdout",
          "text": [
            "10\n",
            "10\n"
          ]
        }
      ]
    },
    {
      "cell_type": "code",
      "source": [
        "totalTips"
      ],
      "metadata": {
        "colab": {
          "base_uri": "https://localhost:8080/"
        },
        "id": "nLPW_r1INeEF",
        "outputId": "497016e2-48fb-4a44-f926-803508202f23"
      },
      "execution_count": null,
      "outputs": [
        {
          "output_type": "execute_result",
          "data": {
            "text/plain": [
              "[['NA'],\n",
              " ['NA'],\n",
              " ['NA'],\n",
              " ['NA'],\n",
              " ['NA'],\n",
              " ['NA'],\n",
              " ['NA'],\n",
              " ['NA'],\n",
              " ['NA'],\n",
              " ['NA'],\n",
              " ['NA'],\n",
              " ['NA'],\n",
              " ['NA'],\n",
              " ['NA'],\n",
              " ['NA'],\n",
              " ['NA'],\n",
              " ['NA'],\n",
              " ['NA'],\n",
              " ['NA'],\n",
              " ['<li>You can also bake veggies like bell peppers and tomatoes to serve as sides. They go perfectly with it.</li>',\n",
              "  '<li>If you like things cheesy, you can top the chicken with grated cheese before baking.</li>',\n",
              "  '<li>Make sure you do donot add too much of rosemary, else it will spoil the taste of this dish.</li>',\n",
              "  '<li>You can also add some condiment to give it a spicy touch!</li>']]"
            ]
          },
          "metadata": {},
          "execution_count": 18
        }
      ]
    },
    {
      "cell_type": "code",
      "source": [
        "name = '1kg of - potoato -'\n",
        "ing = name.split('-')[1]\n",
        "name = name.replace('-','')\n",
        "\n",
        "print(ing)"
      ],
      "metadata": {
        "colab": {
          "base_uri": "https://localhost:8080/"
        },
        "id": "_sBLkpDISLfI",
        "outputId": "cb793ac8-bd8e-4c18-c659-205bf862bb86"
      },
      "execution_count": null,
      "outputs": [
        {
          "output_type": "stream",
          "name": "stdout",
          "text": [
            " potoato \n"
          ]
        }
      ]
    }
  ]
}